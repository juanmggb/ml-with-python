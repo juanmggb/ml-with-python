{
  "nbformat": 4,
  "nbformat_minor": 0,
  "metadata": {
    "colab": {
      "provenance": [],
      "toc_visible": true,
      "authorship_tag": "ABX9TyND9LMvshxz5HerFxp90H5c",
      "include_colab_link": true
    },
    "kernelspec": {
      "name": "python3",
      "display_name": "Python 3"
    },
    "language_info": {
      "name": "python"
    }
  },
  "cells": [
    {
      "cell_type": "markdown",
      "metadata": {
        "id": "view-in-github",
        "colab_type": "text"
      },
      "source": [
        "<a href=\"https://colab.research.google.com/github/juanmggb/optimization-with-python/blob/main/genetic_algorithms/KnapsackProblem.ipynb\" target=\"_parent\"><img src=\"https://colab.research.google.com/assets/colab-badge.svg\" alt=\"Open In Colab\"/></a>"
      ]
    },
    {
      "cell_type": "code",
      "execution_count": 144,
      "metadata": {
        "id": "He-uykTPOeCF"
      },
      "outputs": [],
      "source": [
        "class Product(object):\n",
        "    def __init__(self, name, weight, price):\n",
        "        self.name = name\n",
        "        self.weight = weight\n",
        "        self.price = price\n",
        "    def __str__(self):\n",
        "        return f\"{self.name} | {self.price} | {self.weight}\""
      ]
    },
    {
      "cell_type": "code",
      "source": [
        "product_list = []\n",
        "product_list.append(Product('Refrigerator A', 0.751, 999.90));\n",
        "product_list.append(Product('Cell phone', 0.0000899, 2199.12));\n",
        "product_list.append(Product('TV 55', 0.400, 4346.99));\n",
        "product_list.append(Product('TV 50', 0.290, 3999.90));\n",
        "product_list.append(Product('TV 42', 0.200, 2999.00));\n",
        "product_list.append(Product('Notebook A', 0.00350, 2499.90));\n",
        "product_list.append(Product('Ventilador', 0.496, 199.90,));\n",
        "product_list.append(Product('Microwave A', 0.0424, 308.66));\n",
        "product_list.append(Product('Microwave B', 0.0544, 429.90));\n",
        "product_list.append(Product('Microwave C', 0.0319, 299.29));\n",
        "product_list.append(Product('Refrigerator B', 0.635, 849.00));\n",
        "product_list.append(Product('Refrigerator C', 0.870, 1199.89));\n",
        "product_list.append(Product('Notebook B', 0.498, 1999.90));\n",
        "product_list.append(Product('Notebook C', 0.527, 3999.00));"
      ],
      "metadata": {
        "id": "tX6_KM7GO7zs"
      },
      "execution_count": 145,
      "outputs": []
    },
    {
      "cell_type": "code",
      "source": [
        "names = []\n",
        "weights = []\n",
        "prices = []\n",
        "for product in product_list:\n",
        "    names.append(product.name)\n",
        "    weights.append(product.weight)\n",
        "    prices.append(product.price)"
      ],
      "metadata": {
        "id": "lWnRV0cgPYEl"
      },
      "execution_count": 146,
      "outputs": []
    },
    {
      "cell_type": "code",
      "source": [
        "from numpy.random import randint\n",
        "from random import random"
      ],
      "metadata": {
        "id": "BQOn0xaiQRkA"
      },
      "execution_count": 147,
      "outputs": []
    },
    {
      "cell_type": "code",
      "source": [
        "class Individual(object):\n",
        "\n",
        "    def __init__(self, weight_limit, weights, prices, generation):\n",
        "\n",
        "        self.weight_limit = weight_limit\n",
        "        self.weights = weights\n",
        "        self.prices = prices\n",
        "        self.generation = generation\n",
        "        self.chromosome = [str(randint(0, 2)) for _ in range(len(prices))]\n",
        "\n",
        "    def get_fitness(self):\n",
        "\n",
        "        tot_price = 0\n",
        "        weight = 0\n",
        "        i = 0\n",
        "        for gene in self.chromosome:\n",
        "            if gene == '1':\n",
        "                tot_price += self.prices[i]\n",
        "                weight += self.weights[i]\n",
        "        i += 1\n",
        "\n",
        "        if weight > self.weight_limit:\n",
        "            tot_price = 1\n",
        "\n",
        "        return tot_price\n",
        "\n",
        "    def crossover(self, ind2):\n",
        "\n",
        "        rand_index = randint(0, len(self.chromosome))\n",
        "\n",
        "        child1 = self.chromosome[:rand_index] + ind2.chromosome[rand_index:]\n",
        "        child2 = ind2[:rand_index] + self.chromosome[rand_index:]\n",
        "\n",
        "        children = [\n",
        "            Individual(self.weight_limit, self.weights, self.prices, self.generation + 1 ,self.spaces),\n",
        "            Individual(self.weight_limit, self.weights, self.prices, self.generation + 1 ,self.spaces),\n",
        "        ]\n",
        "\n",
        "        children[0].chromosome = child1\n",
        "        children[1].chromosome = child2\n",
        "\n",
        "        return children\n",
        "\n",
        "    def mutation(self, mut_rate):\n",
        "\n",
        "        chromosome = self.chromosome.copy()\n",
        "        for i in range(len(self.chromosome)):\n",
        "            if random() < mut_rate:\n",
        "                chromosome[i] = self._flip_gene(chromosome[i])\n",
        "\n",
        "        self.chromosome = chromosome\n",
        "\n",
        "        return self\n",
        "\n",
        "    def _flip_gene(gene):\n",
        "\n",
        "        if gene == '1':\n",
        "            return '0'\n",
        "        return '1'\n",
        "\n",
        "    def __str__(self):\n",
        "\n",
        "        return \"\".join(self.chromosome)"
      ],
      "metadata": {
        "id": "vostsl-jPc0O"
      },
      "execution_count": 186,
      "outputs": []
    },
    {
      "cell_type": "code",
      "source": [
        "\"\".join(['1','0','0','0','1','0'])"
      ],
      "metadata": {
        "colab": {
          "base_uri": "https://localhost:8080/",
          "height": 36
        },
        "id": "fYkfgfHCRY45",
        "outputId": "4422c4e4-9db7-4d05-fa8b-817fa78e96d3"
      },
      "execution_count": 187,
      "outputs": [
        {
          "output_type": "execute_result",
          "data": {
            "text/plain": [
              "'100010'"
            ],
            "application/vnd.google.colaboratory.intrinsic+json": {
              "type": "string"
            }
          },
          "metadata": {},
          "execution_count": 187
        }
      ]
    },
    {
      "cell_type": "code",
      "source": [
        "class Population(object):\n",
        "\n",
        "    def __init__(self, population_size, weight_limit, weights, prices, mut_rate, cross_rate):\n",
        "        self.population_size = population_size\n",
        "        self.weight_limit = weight_limit,\n",
        "        self.weights = weights,\n",
        "        self.prices = prices,\n",
        "        self.mut_rate = mut_rate\n",
        "        self.cross_rate = cross_rate\n",
        "\n",
        "        self.individuals = [\n",
        "            Individual(weight_limit=weight_limit,\n",
        "                       weights=weights,\n",
        "                       prices=prices,\n",
        "                       generation=0) for _ in range(population_size)\n",
        "        ]\n",
        "\n",
        "    def get_fittest(self):\n",
        "\n",
        "        sorted_individuals = sorted(self.individuals, key = lambda ind: ind.get_fitness(), reverse=True)\n",
        "\n",
        "        return sorted_individuals[0]\n",
        "\n",
        "\n",
        "    def selection(self):\n",
        "\n",
        "        tot_fit = 0\n",
        "        individuals = self.individuals.copy()\n",
        "        n = len(individuals)\n",
        "\n",
        "        for individual in individuals:\n",
        "            tot_fit += individual.get_fitness()\n",
        "\n",
        "        new_individuals = individuals.copy()\n",
        "        for i in range(n):\n",
        "            sum = 0\n",
        "            j = 0\n",
        "            while j < n and sum <= random()*tot_fit:\n",
        "                sum += individuals[j].get_fitness()\n",
        "                j += 1\n",
        "            new_individuals[j] = individuals[j]\n",
        "\n",
        "        new_population = Population(self.population_size,\n",
        "                   self.weight_limit,\n",
        "                   self.weights,\n",
        "                   self.prices,\n",
        "                   self.mut_rate,\n",
        "                   self.cross_rate)\n",
        "\n",
        "        new_population.individuals = new_individuals\n",
        "        return new_population\n",
        "\n",
        "    def evolve_population(self, population):\n",
        "\n",
        "        # Selection\n",
        "        new_population = population.selection()\n",
        "        # Crossover\n",
        "        for i in range(len(new_population.individuals)//2, 2):\n",
        "            if random() > self.cross_rate:\n",
        "                parent1 = new_population.individuals[i]\n",
        "                parent2 = new_population.individuals[i+1]\n",
        "                children = parent1.crossover(parent2)\n",
        "\n",
        "                # Mutation\n",
        "                children[0].mutation(self.mut_rate)\n",
        "                children[1].mutation(self.mut_rate)\n",
        "\n",
        "                new_population.individuals[i] = children[0]\n",
        "                new_population.individuals[i+1] = children[1]\n",
        "\n",
        "        return new_population"
      ],
      "metadata": {
        "id": "uHeexPEwRbO2"
      },
      "execution_count": 192,
      "outputs": []
    },
    {
      "cell_type": "code",
      "source": [
        "class GeneticAlgorithm(object):\n",
        "\n",
        "    def __init__(self, num_generations, population_size, weight_limit, weights, prices):\n",
        "\n",
        "\n",
        "        self.num_generations = num_generations\n",
        "        self.population_size = population_size\n",
        "        self.weight_limit = weight_limit\n",
        "        self.weights = weights\n",
        "        self.prices = prices\n",
        "\n",
        "    def run(self):\n",
        "\n",
        "        # Initialize population\n",
        "        population = Population(self.population_size,\n",
        "                                self.weight_limit,\n",
        "                                self.weights,\n",
        "                                self.prices,\n",
        "                                mut_rate = 0.1,\n",
        "                                cross_rate=0.8)\n",
        "        # Evaluate best fitness\n",
        "        best_solution = population.get_fittest()\n",
        "        best_fitness = [best_solution.get_fitness()]\n",
        "\n",
        "        # Evaluate termination criteria\n",
        "        for i in range(self.num_generations):\n",
        "            print('Iteration', i)\n",
        "            # Evolve population\n",
        "            population = population.evolve_population(population)\n",
        "            # Evaluate best fitness\n",
        "            best_solution = population.get_fittest()\n",
        "            best_fitness.append(best_solution.get_fitness())\n",
        "\n",
        "\n",
        "        return population, best_fitness"
      ],
      "metadata": {
        "id": "vNZQYrUgWYfd"
      },
      "execution_count": 193,
      "outputs": []
    },
    {
      "cell_type": "code",
      "source": [
        "ga = GeneticAlgorithm(10,100,3, weights, prices)"
      ],
      "metadata": {
        "id": "3nbqJrhgb8wO"
      },
      "execution_count": 196,
      "outputs": []
    },
    {
      "cell_type": "code",
      "source": [
        "population, best_fitness = ga.run()"
      ],
      "metadata": {
        "id": "lT-hcVzGcIS_"
      },
      "execution_count": null,
      "outputs": []
    },
    {
      "cell_type": "code",
      "source": [
        "for individual in population.individuals:\n",
        "    print(individual)"
      ],
      "metadata": {
        "id": "YxQ3nC4yfz9P"
      },
      "execution_count": null,
      "outputs": []
    },
    {
      "cell_type": "code",
      "source": [
        "len(population.individuals)"
      ],
      "metadata": {
        "colab": {
          "base_uri": "https://localhost:8080/"
        },
        "id": "7fWs30nlhOWW",
        "outputId": "a1f47200-0e28-4f7d-e640-dba603365f4e"
      },
      "execution_count": 199,
      "outputs": [
        {
          "output_type": "execute_result",
          "data": {
            "text/plain": [
              "100"
            ]
          },
          "metadata": {},
          "execution_count": 199
        }
      ]
    },
    {
      "cell_type": "code",
      "source": [
        "best_solution = population.get_fittest()\n"
      ],
      "metadata": {
        "id": "kGv7VcxRhhhe"
      },
      "execution_count": null,
      "outputs": []
    },
    {
      "cell_type": "code",
      "source": [
        "best_solution.get_fitness()"
      ],
      "metadata": {
        "colab": {
          "base_uri": "https://localhost:8080/"
        },
        "id": "yxrVqYtGidIz",
        "outputId": "2f79e9d4-b13b-4394-a35c-6f3c6520914d"
      },
      "execution_count": 203,
      "outputs": [
        {
          "output_type": "stream",
          "name": "stdout",
          "text": [
            "weight limit 3 weight 2.253\n"
          ]
        },
        {
          "output_type": "execute_result",
          "data": {
            "text/plain": [
              "2999.7"
            ]
          },
          "metadata": {},
          "execution_count": 203
        }
      ]
    },
    {
      "cell_type": "code",
      "source": [],
      "metadata": {
        "id": "E3Wgd508ubbB"
      },
      "execution_count": null,
      "outputs": []
    }
  ]
}