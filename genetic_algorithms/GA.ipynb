{
  "nbformat": 4,
  "nbformat_minor": 0,
  "metadata": {
    "colab": {
      "provenance": [],
      "authorship_tag": "ABX9TyPCebviwoHOsBNlzyPhk8jo",
      "include_colab_link": true
    },
    "kernelspec": {
      "name": "python3",
      "display_name": "Python 3"
    },
    "language_info": {
      "name": "python"
    }
  },
  "cells": [
    {
      "cell_type": "markdown",
      "metadata": {
        "id": "view-in-github",
        "colab_type": "text"
      },
      "source": [
        "<a href=\"https://colab.research.google.com/github/juanmggb/optimization-with-python/blob/main/genetic_algorithms/GA.ipynb\" target=\"_parent\"><img src=\"https://colab.research.google.com/assets/colab-badge.svg\" alt=\"Open In Colab\"/></a>"
      ]
    },
    {
      "cell_type": "code",
      "execution_count": 30,
      "metadata": {
        "id": "6rTvyk4fNSOi"
      },
      "outputs": [],
      "source": [
        "class Product(object):\n",
        "\n",
        "    def __init__(self, name, space, price):\n",
        "\n",
        "        self.name = name\n",
        "        self.price = price\n",
        "        self.space = space\n",
        "\n",
        "\n",
        "    def get_name(self):\n",
        "        return self.name\n",
        "\n",
        "    def get_price(self):\n",
        "        return self.price\n",
        "\n",
        "    def get_space(self):\n",
        "        return self.space\n",
        "\n",
        "    def __str__(self):\n",
        "        return f\"{self.name} | {self.space} | {self.price}\""
      ]
    },
    {
      "cell_type": "code",
      "source": [
        "p1 = Product(\"A\", 12, 5)\n",
        "print(p1)"
      ],
      "metadata": {
        "colab": {
          "base_uri": "https://localhost:8080/"
        },
        "id": "02g2xoK4OQ-k",
        "outputId": "ca6b2e06-d4cd-4ccb-b12d-03416a6052e8"
      },
      "execution_count": 31,
      "outputs": [
        {
          "output_type": "stream",
          "name": "stdout",
          "text": [
            "A | 12 | 5\n"
          ]
        }
      ]
    },
    {
      "cell_type": "code",
      "source": [
        "products_list = []\n",
        "products_list.append(Product('Refrigerator A', 0.751, 999.90))\n",
        "products_list.append(Product('Cell phone', 0.00000899, 2199.12))\n",
        "products_list.append(Product('TV 55', 0.400, 4346.99))\n",
        "products_list.append(Product(\"TV 50' \", 0.290, 3999.90))\n",
        "products_list.append(Product(\"TV 42' \", 0.200, 2999.00))\n",
        "products_list.append(Product(\"Notebook A\", 0.00350, 2499.90))\n",
        "products_list.append(Product(\"Ventilator\", 0.496, 199.90))\n",
        "products_list.append(Product(\"Microwave A\", 0.0424, 308.66))\n",
        "products_list.append(Product(\"Microwave B\", 0.0544, 429.90))\n",
        "products_list.append(Product(\"Microwave C\", 0.0319, 299.29))\n",
        "products_list.append(Product(\"Refrigerator B\", 0.635, 849.00))\n",
        "products_list.append(Product(\"Refrigerator C\", 0.870, 1199.89))\n",
        "products_list.append(Product(\"Notebook B\", 0.498, 1999.90))\n",
        "products_list.append(Product(\"Notebook C\", 0.527, 3999.00))"
      ],
      "metadata": {
        "id": "hH8LnjfqOdgZ"
      },
      "execution_count": 32,
      "outputs": []
    },
    {
      "cell_type": "code",
      "source": [
        "class Individual(object):\n",
        "\n",
        "    def __init__(self, num_items, tot_space):\n",
        "\n",
        "        self.num_items = num_items\n",
        "        self.tot_space = tot_space\n",
        "        self.items = []\n",
        "\n",
        "    def get_num_items(self):\n",
        "        return self.num_items\n",
        "\n",
        "    def get_tot_space(self):\n",
        "        return self.tot_space\n",
        "\n",
        "    def get_items(self):\n",
        "        return self.items.copy()\n",
        "\n",
        "    def get_occupied_space(self):\n",
        "        items = self.get_items()\n",
        "        occupied_space = 0\n",
        "        for item in items:\n",
        "            occupied_space += item.get_space()\n",
        "        return occupied_space\n",
        "\n",
        "    def add_item(self, item):\n",
        "        items = self.get_items()\n",
        "\n",
        "        if len(items) == self.get_num_items():\n",
        "            raise ValueError('It is not possible to add more items')\n",
        "\n",
        "        occupied_space = self.get_occupied_space()\n",
        "\n",
        "        if occupied_space + item.get_space() < self.get_tot_space():\n",
        "\n",
        "            items.append(item)\n",
        "            self.items = items\n",
        "        else:\n",
        "            raise ValueError('The item space exceeds the available space')\n",
        "\n",
        "\n",
        "    def __str__(self):\n",
        "\n",
        "        return f\"Num items: {self.get_num_items()} | Total space: {self.get_tot_space()} | Occupied space: {self.get_occupied_space()}\"\n",
        "\n"
      ],
      "metadata": {
        "id": "IoYlKfprPk4t"
      },
      "execution_count": 33,
      "outputs": []
    },
    {
      "cell_type": "code",
      "source": [
        "individual = Individual(num_items=10, tot_space=1e5)\n",
        "print(individual)"
      ],
      "metadata": {
        "colab": {
          "base_uri": "https://localhost:8080/"
        },
        "id": "fkgs5q6VarN5",
        "outputId": "3e4a9d55-4739-4355-99fe-4bda82ce9fc0"
      },
      "execution_count": 34,
      "outputs": [
        {
          "output_type": "stream",
          "name": "stdout",
          "text": [
            "Num items: 10 | Total space: 100000.0 | Occupied space: 0\n"
          ]
        }
      ]
    },
    {
      "cell_type": "code",
      "source": [
        "import random"
      ],
      "metadata": {
        "id": "TAqNIBTIcaPT"
      },
      "execution_count": 35,
      "outputs": []
    },
    {
      "cell_type": "code",
      "source": [
        "class Individual(object):\n",
        "    def __init__(self, spaces, prices, space_limit, generation=1):\n",
        "        self.spaces = spaces\n",
        "        self.prices = prices\n",
        "        self.space_limit = space_limit\n",
        "        self.generation = generation\n",
        "\n",
        "        self.score_evaluation = 0\n",
        "        self.used_space = 0\n",
        "\n",
        "        self.chromosome = []\n",
        "\n",
        "        # Initialize chromosome with random solution\n",
        "        for i in range(len(spaces)):\n",
        "            if random.random() > 0.5:\n",
        "                self.chromosome.append('0')\n",
        "            else:\n",
        "                self.chromosome.append('1')\n",
        "\n",
        "    def fitness(self):\n",
        "\n",
        "        score = 0\n",
        "        sum_spaces = 0\n",
        "\n",
        "        for i in range(len(self.chromosome)):\n",
        "            if self.chromosome[i] == '1':\n",
        "                sum_spaces += self.spaces[i]\n",
        "                score += self.prices[i]\n",
        "\n",
        "\n",
        "\n",
        "        if sum_spaces > self.space_limit:\n",
        "            score = 1\n",
        "\n",
        "        self.score_evaluation = score\n",
        "        self.used_space = sum_spaces\n",
        "\n",
        "\n",
        "    def crossover(self, other_individual):\n",
        "\n",
        "        cutoff = round(random.random() * len(self.chromosome))\n",
        "\n",
        "        child1 = other_individual.chromosome[:cutoff] + self.chromosome[cutoff:]\n",
        "        child2 = self.chromosome[:cutoff] + other_individual.chromosome[cutoff:]\n",
        "\n",
        "        children = [\n",
        "            Individual(self.spaces, self.prices, self.space_limit, self.generation + 1),\n",
        "            Individual(self.spaces, self.prices, self.space_limit, self.generation + 1),\n",
        "            ]\n",
        "        children[0].chromosome = child1\n",
        "        children[1].chromosome = child2\n",
        "\n",
        "        return children\n",
        "\n",
        "    def mutation(self, rate):\n",
        "        chromosome = self.chromosome.copy()\n",
        "        for i in range(len(self.chromosome)):\n",
        "            if random.random() < rate:\n",
        "                chromosome[i] = self._flip_gene(chromosome[i])\n",
        "\n",
        "        self.chromosome = chromosome\n",
        "\n",
        "\n",
        "\n",
        "    def _flip_gene(self, gene):\n",
        "\n",
        "        if gene == '1':\n",
        "            return '0'\n",
        "        return '1'\n",
        "\n",
        "    def __str__(self):\n",
        "        text = f\"spaces: {self.spaces}\\nprices: {self.prices}\\nchromose: {self.chromosome}\\nscore_evaluation: {self.score_evaluation}\\nused_space: {self.used_space}\"\n",
        "        return text\n",
        "spaces = []\n",
        "prices = []\n",
        "names = []\n",
        "\n",
        "for product in products_list:\n",
        "    spaces.append(product.space)\n",
        "    prices.append(product.price)\n",
        "    names.append(product.name)\n",
        "limit =30\n",
        "individual1 = Individual(spaces, prices, limit)\n",
        "for i in range(len(individual1.chromosome)):\n",
        "    # print(individual1.chromosome[i])\n",
        "    if individual1.chromosome[i] == '1':\n",
        "        print(products_list[i].name)\n",
        "individual1.fitness()\n",
        "print(individual1)"
      ],
      "metadata": {
        "colab": {
          "base_uri": "https://localhost:8080/"
        },
        "id": "VBWOm-MWdNf7",
        "outputId": "5bf9125b-f795-4f0a-9343-35d810bf9fa4"
      },
      "execution_count": 66,
      "outputs": [
        {
          "output_type": "stream",
          "name": "stdout",
          "text": [
            "Cell phone\n",
            "TV 55\n",
            "TV 50' \n",
            "TV 42' \n",
            "Notebook A\n",
            "Ventilator\n",
            "Notebook C\n",
            "spaces: [0.751, 8.99e-06, 0.4, 0.29, 0.2, 0.0035, 0.496, 0.0424, 0.0544, 0.0319, 0.635, 0.87, 0.498, 0.527]\n",
            "prices: [999.9, 2199.12, 4346.99, 3999.9, 2999.0, 2499.9, 199.9, 308.66, 429.9, 299.29, 849.0, 1199.89, 1999.9, 3999.0]\n",
            "chromose: ['0', '1', '1', '1', '1', '1', '1', '0', '0', '0', '0', '0', '0', '1']\n",
            "score_evaluation: 20243.809999999998\n",
            "used_space: 1.91650899\n"
          ]
        }
      ]
    },
    {
      "cell_type": "markdown",
      "source": [
        "# Crossover (One Point)"
      ],
      "metadata": {
        "id": "9JyHsjxBruQq"
      }
    },
    {
      "cell_type": "code",
      "source": [
        "individual2 = Individual(spaces, prices, limit)\n",
        "for i in range(len(individual2.chromosome)):\n",
        "    # print(individual2.chromosome[i])\n",
        "    if individual2.chromosome[i] == '1':\n",
        "        print(products_list[i].name)\n",
        "individual2.fitness()\n",
        "print(individual2)"
      ],
      "metadata": {
        "colab": {
          "base_uri": "https://localhost:8080/"
        },
        "id": "8jpFPEy2JgBU",
        "outputId": "7e40f569-b738-4966-8846-b2dee2580721"
      },
      "execution_count": 58,
      "outputs": [
        {
          "output_type": "stream",
          "name": "stdout",
          "text": [
            "Refrigerator A\n",
            "TV 55\n",
            "TV 50' \n",
            "Microwave A\n",
            "spaces: [0.751, 8.99e-06, 0.4, 0.29, 0.2, 0.0035, 0.496, 0.0424, 0.0544, 0.0319, 0.635, 0.87, 0.498, 0.527]\n",
            "prices: [999.9, 2199.12, 4346.99, 3999.9, 2999.0, 2499.9, 199.9, 308.66, 429.9, 299.29, 849.0, 1199.89, 1999.9, 3999.0]\n",
            "chromose: ['1', '0', '1', '1', '0', '0', '0', '1', '0', '0', '0', '0', '0', '0']\n",
            "score_evaluation: 9655.449999999999\n",
            "used_space: 1.4834\n"
          ]
        }
      ]
    },
    {
      "cell_type": "code",
      "source": [
        "print(individual1.chromosome)\n",
        "print(individual2.chromosome)"
      ],
      "metadata": {
        "colab": {
          "base_uri": "https://localhost:8080/"
        },
        "id": "d5U2eXOgJiE0",
        "outputId": "3bf9154f-c9d6-4732-b8a1-190ef067e824"
      },
      "execution_count": 59,
      "outputs": [
        {
          "output_type": "stream",
          "name": "stdout",
          "text": [
            "['0', '0', '1', '0', '0', '0', '1', '0', '0', '1', '0', '1', '0', '0']\n",
            "['1', '0', '1', '1', '0', '0', '0', '1', '0', '0', '0', '0', '0', '0']\n"
          ]
        }
      ]
    },
    {
      "cell_type": "code",
      "source": [
        "children = individual1.crossover(individual2)"
      ],
      "metadata": {
        "id": "wu0NfAebL-Z2"
      },
      "execution_count": 62,
      "outputs": []
    },
    {
      "cell_type": "code",
      "source": [
        "for child in children:\n",
        "    child.fitness()\n",
        "    print(child.score_evaluation)"
      ],
      "metadata": {
        "colab": {
          "base_uri": "https://localhost:8080/"
        },
        "id": "g0S_w9F6MERP",
        "outputId": "59ab5c94-bd74-40ba-ca91-45da12715acc"
      },
      "execution_count": 65,
      "outputs": [
        {
          "output_type": "stream",
          "name": "stdout",
          "text": [
            "9655.449999999999\n",
            "6046.07\n"
          ]
        }
      ]
    },
    {
      "cell_type": "code",
      "source": [],
      "metadata": {
        "id": "zPXfFikQPZ2-"
      },
      "execution_count": null,
      "outputs": []
    }
  ]
}