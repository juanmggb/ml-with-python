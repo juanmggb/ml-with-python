{
  "nbformat": 4,
  "nbformat_minor": 0,
  "metadata": {
    "colab": {
      "provenance": [],
      "authorship_tag": "ABX9TyNbiYruqaTIQbts8zjdtcDl",
      "include_colab_link": true
    },
    "kernelspec": {
      "name": "python3",
      "display_name": "Python 3"
    },
    "language_info": {
      "name": "python"
    }
  },
  "cells": [
    {
      "cell_type": "markdown",
      "metadata": {
        "id": "view-in-github",
        "colab_type": "text"
      },
      "source": [
        "<a href=\"https://colab.research.google.com/github/juanmggb/optimization-with-python/blob/main/optimization-with-python/tree/main/genetic_algorithms/GA2.ipynb\" target=\"_parent\"><img src=\"https://colab.research.google.com/assets/colab-badge.svg\" alt=\"Open In Colab\"/></a>"
      ]
    },
    {
      "cell_type": "code",
      "execution_count": 21,
      "metadata": {
        "id": "jrzzhJxkQBv6"
      },
      "outputs": [],
      "source": [
        "import random\n",
        "from numpy.random import randint, uniform"
      ]
    },
    {
      "cell_type": "code",
      "source": [
        "SOLUTION_SEQUENCE = [i for i in range(10)]\n",
        "print(SOLUTION_SEQUENCE)"
      ],
      "metadata": {
        "colab": {
          "base_uri": "https://localhost:8080/"
        },
        "id": "icXAf152d1o3",
        "outputId": "cfc3bebc-87e9-4c28-f0e2-696769fe73a1"
      },
      "execution_count": 22,
      "outputs": [
        {
          "output_type": "stream",
          "name": "stdout",
          "text": [
            "[0, 1, 2, 3, 4, 5, 6, 7, 8, 9]\n"
          ]
        }
      ]
    },
    {
      "cell_type": "code",
      "source": [
        "TOURNAMENT_SIZE = 20\n",
        "MAX_FITNESS = 10"
      ],
      "metadata": {
        "id": "kO1he-cqd813"
      },
      "execution_count": 23,
      "outputs": []
    },
    {
      "cell_type": "code",
      "source": [
        "CHROMOSOME_LENGTH = 10"
      ],
      "metadata": {
        "id": "Due6a0MQeEzP"
      },
      "execution_count": 24,
      "outputs": []
    },
    {
      "cell_type": "code",
      "source": [
        "class Individual(object):\n",
        "\n",
        "    def __init__(self):\n",
        "        self.genes = [randint(CHROMOSOME_LENGTH) for _ in range(CHROMOSOME_LENGTH)]\n",
        "\n",
        "    def get_fitness(self):\n",
        "        fitness = 0\n",
        "        for index in range(len(self.genes)):\n",
        "            if self.genes[index] == SOLUTION_SEQUENCE[index]:\n",
        "                fitness += 1\n",
        "        return fitness\n",
        "\n",
        "    def __str__(self):\n",
        "\n",
        "        return ''.join(str(gene) for gene in self.genes)"
      ],
      "metadata": {
        "id": "pvtu2uv_eGWQ"
      },
      "execution_count": 33,
      "outputs": []
    },
    {
      "cell_type": "code",
      "source": [
        "class Population(object):\n",
        "\n",
        "    def __init__(self, population_size):\n",
        "\n",
        "        self.population_size = population_size\n",
        "        self.individuals=[Individual() for _ in range(population_size)]\n",
        "\n",
        "    def get_fittess(self):\n",
        "\n",
        "        fittest = self.individuals[0]\n",
        "\n",
        "        for ind in self.individuals[1:]:\n",
        "            if ind.get_fitness() > fittest.get_fitness():\n",
        "                fittest = ind\n",
        "        return fittest\n",
        "\n",
        "    def get_size(self):\n",
        "        return self.population_size\n",
        "\n",
        "    def get_individual(self, index):\n",
        "\n",
        "        return self.individuals[index]\n",
        "\n",
        "    def save(self, index, individual):\n",
        "        self.individuals[index] = individual\n",
        "\n"
      ],
      "metadata": {
        "id": "e8DLR9AgfQEG"
      },
      "execution_count": 44,
      "outputs": []
    },
    {
      "cell_type": "code",
      "source": [
        "class GeneticAlgorithm(object):\n",
        "\n",
        "    def __init__(self, population_size=100, crossover_rate = 0.65, mutation_rate = 0.10):\n",
        "        self.population_size = population_size\n",
        "        self.crossover_rate = crossover_rate\n",
        "        self.mutation_rate = mutation_rate\n",
        "\n",
        "    def run(self):\n",
        "\n",
        "        pop = Population(self.population_size)\n",
        "        generation_counter = 0\n",
        "\n",
        "\n",
        "        while pop.get_fittess().get_fitness() != MAX_FITNESS:\n",
        "            generation_counter += 1\n",
        "            print(f'''Generation {generation_counter} - fittest is: {pop.get_fittess()} with fitness\n",
        "            value: {pop.get_fittess().get_fitness()}''')\n",
        "            pop = self.evolve_population(pop)\n",
        "        print('Solution found...')\n",
        "        print(pop.get_fittess())\n",
        "\n",
        "\n",
        "    def evolve_population(self, population):\n",
        "        next_population = Population(self.population_size)\n",
        "\n",
        "        # crossover\n",
        "        for index in range(next_population.population_size):\n",
        "            first = self.random_selection(population)\n",
        "            second = self.random_selection(population)\n",
        "            next_population.save(index, self.crossover(first, second))\n",
        "        # mutation\n",
        "        for individual in next_population.individuals:\n",
        "            self.mutate(individual)\n",
        "\n",
        "        return next_population\n",
        "\n",
        "    def random_selection(self, actual_population):\n",
        "\n",
        "        new_population = Population(TOURNAMENT_SIZE)\n",
        "\n",
        "        for i in range(new_population.get_size()):\n",
        "\n",
        "            random_index = randint(actual_population.get_size())\n",
        "\n",
        "            new_population.save(i, actual_population.get_individual(random_index))\n",
        "\n",
        "        return new_population.get_fittess()\n",
        "\n",
        "    def mutate(self, individual):\n",
        "\n",
        "        for index in range(CHROMOSOME_LENGTH):\n",
        "\n",
        "            if uniform(0,1) < self.mutation_rate:\n",
        "                individual.genes[index] = randint(0, CHROMOSOME_LENGTH)\n",
        "\n",
        "\n",
        "    def crossover(self, ind1, ind2):\n",
        "\n",
        "        cross_individual = Individual()\n",
        "\n",
        "        start = randint(CHROMOSOME_LENGTH)\n",
        "        end = randint(CHROMOSOME_LENGTH)\n",
        "\n",
        "        if end < start:\n",
        "            start, end = end, start\n",
        "\n",
        "\n",
        "        cross_individual.genes = ind1.genes[:start] + ind2.genes[start:end] + ind1.genes[end:]\n",
        "\n",
        "        return cross_individual"
      ],
      "metadata": {
        "id": "xa7WPs0MgTjp"
      },
      "execution_count": 53,
      "outputs": []
    },
    {
      "cell_type": "code",
      "source": [
        "ga = GeneticAlgorithm(50)\n",
        "ga.run()"
      ],
      "metadata": {
        "colab": {
          "base_uri": "https://localhost:8080/"
        },
        "id": "ueGLyRYhymym",
        "outputId": "615f9664-271a-4307-eba9-6dc5f3031ae5"
      },
      "execution_count": 54,
      "outputs": [
        {
          "output_type": "stream",
          "name": "stdout",
          "text": [
            "Generation 1 - fittest is: 1813217759 with fitness \n",
            "            value: 3\n",
            "Generation 2 - fittest is: 2173481716 with fitness \n",
            "            value: 4\n",
            "Generation 3 - fittest is: 0253417759 with fitness \n",
            "            value: 5\n",
            "Generation 4 - fittest is: 0653457759 with fitness \n",
            "            value: 6\n",
            "Generation 5 - fittest is: 0123457759 with fitness \n",
            "            value: 8\n",
            "Generation 6 - fittest is: 0123457759 with fitness \n",
            "            value: 8\n",
            "Generation 7 - fittest is: 0123456749 with fitness \n",
            "            value: 9\n",
            "Generation 8 - fittest is: 0123456749 with fitness \n",
            "            value: 9\n",
            "Generation 9 - fittest is: 0123456779 with fitness \n",
            "            value: 9\n",
            "Generation 10 - fittest is: 0123456749 with fitness \n",
            "            value: 9\n",
            "Generation 11 - fittest is: 0123456749 with fitness \n",
            "            value: 9\n",
            "Generation 12 - fittest is: 0123456749 with fitness \n",
            "            value: 9\n",
            "Generation 13 - fittest is: 0123456749 with fitness \n",
            "            value: 9\n",
            "Generation 14 - fittest is: 0123456739 with fitness \n",
            "            value: 9\n",
            "Solution found...\n",
            "0123456789\n"
          ]
        }
      ]
    },
    {
      "cell_type": "code",
      "source": [
        "SOLUTION_SEQUENCE"
      ],
      "metadata": {
        "colab": {
          "base_uri": "https://localhost:8080/"
        },
        "id": "vxId3Ihl2cCG",
        "outputId": "2017b3d2-d10b-4477-c86d-093f13814727"
      },
      "execution_count": 55,
      "outputs": [
        {
          "output_type": "execute_result",
          "data": {
            "text/plain": [
              "[0, 1, 2, 3, 4, 5, 6, 7, 8, 9]"
            ]
          },
          "metadata": {},
          "execution_count": 55
        }
      ]
    },
    {
      "cell_type": "code",
      "source": [],
      "metadata": {
        "id": "g_OqmJgN35d0"
      },
      "execution_count": null,
      "outputs": []
    }
  ]
}